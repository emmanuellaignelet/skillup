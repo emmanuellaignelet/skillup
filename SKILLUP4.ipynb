{
  "nbformat": 4,
  "nbformat_minor": 0,
  "metadata": {
    "colab": {
      "provenance": [],
      "authorship_tag": "ABX9TyMSvdTTsrx8XOFPVkSfR+sh",
      "include_colab_link": true
    },
    "kernelspec": {
      "name": "python3",
      "display_name": "Python 3"
    },
    "language_info": {
      "name": "python"
    }
  },
  "cells": [
    {
      "cell_type": "markdown",
      "metadata": {
        "id": "view-in-github",
        "colab_type": "text"
      },
      "source": [
        "<a href=\"https://colab.research.google.com/github/emmanuellaignelet/skillup/blob/main/SKILLUP4.ipynb\" target=\"_parent\"><img src=\"https://colab.research.google.com/assets/colab-badge.svg\" alt=\"Open In Colab\"/></a>"
      ]
    },
    {
      "cell_type": "markdown",
      "source": [
        "#Hello.py\n"
      ],
      "metadata": {
        "id": "5XfvVODxS8ig"
      }
    },
    {
      "cell_type": "code",
      "execution_count": null,
      "metadata": {
        "id": "jpg3h1kDSl2F"
      },
      "outputs": [],
      "source": [
        "from flask import Flask\n",
        "\n",
        "app = Flask(__name__)\n",
        "\n",
        "@app.route(\"/\")\n",
        "def hello_world():\n",
        "    return \"<p>Hello, World!</p>\""
      ]
    },
    {
      "cell_type": "markdown",
      "source": [
        "#SESSION 4 – INTEGRATION AI\n",
        "Introduction aux principes de l'IA intégrée\n",
        "Objectifs de la Session 4\n",
        "Introduction aux principes de l'IA intégrée\n",
        "Pratique des chatbots avec Python Flask, HTML, CSS, et JavaScript\n",
        "Intégration des services IBM Watson pour la conversion de parole en texte et de texte en parole\n",
        "Développement d'un modèle de chatbot intelligent à l'aide de OpenAI GPT-3\n",
        "Création d'une interface web interactive pour l'interaction avec le chatbot"
      ],
      "metadata": {
        "id": "Zln8CQOBT3a0"
      }
    },
    {
      "cell_type": "markdown",
      "source": [
        "#Étapes de Préparation\n",
        "1. Installation de Flask\n",
        "Pour installer Flask, suivez ces étapes :\n",
        "\n",
        "Installer Python :\n",
        "\n",
        "Assurez-vous d'avoir Python installé sur votre système. Vous pouvez télécharger Python depuis le site officiel python.org.\n",
        "Créer un Environnement Virtuel :\n",
        "\n",
        "Il est recommandé d'utiliser un environnement virtuel pour isoler les dépendances de votre projet."
      ],
      "metadata": {
        "id": "OkCmGO-qUC-u"
      }
    },
    {
      "cell_type": "code",
      "source": [
        "python -m venv venv\n"
      ],
      "metadata": {
        "id": "0TR-teN0UIRT"
      },
      "execution_count": null,
      "outputs": []
    },
    {
      "cell_type": "markdown",
      "source": [
        "#Activer l'Environnement Virtuel :\n",
        "\n",
        "Sous Windows :\n",
        "sh"
      ],
      "metadata": {
        "id": "LFEdEq1HURwC"
      }
    },
    {
      "cell_type": "code",
      "source": [
        "venv\\Scripts\\activate\n"
      ],
      "metadata": {
        "id": "UrSGiAquUQ2j"
      },
      "execution_count": null,
      "outputs": []
    },
    {
      "cell_type": "markdown",
      "source": [
        "#Sous macOS/Linux :"
      ],
      "metadata": {
        "id": "LSskBLZqUWtw"
      }
    },
    {
      "cell_type": "code",
      "source": [
        "source venv/bin/activate\n"
      ],
      "metadata": {
        "id": "oJj53iJkUk1I"
      },
      "execution_count": null,
      "outputs": []
    },
    {
      "cell_type": "markdown",
      "source": [
        "#Installer Flask"
      ],
      "metadata": {
        "id": "kmP8NxZlUqMh"
      }
    },
    {
      "cell_type": "markdown",
      "source": [
        "Utilisez pip pour installer Flask."
      ],
      "metadata": {
        "id": "6-eofDfDU0Dg"
      }
    },
    {
      "cell_type": "code",
      "source": [
        "pip install Flask\n"
      ],
      "metadata": {
        "id": "gKPynCbCUwyJ"
      },
      "execution_count": null,
      "outputs": []
    },
    {
      "cell_type": "code",
      "source": [
        "!flask --app hello run\n",
        " * Serving Flask app 'hello'\n",
        " * Running on http://127.0.0.1:5000 (Press CTRL+C to quit)"
      ],
      "metadata": {
        "colab": {
          "base_uri": "https://localhost:8080/",
          "height": 110
        },
        "id": "nrjAgqTgTJNe",
        "outputId": "ad58def6-1973-46ae-e631-a83f1d9ef1db"
      },
      "execution_count": null,
      "outputs": [
        {
          "output_type": "error",
          "ename": "IndentationError",
          "evalue": "unexpected indent (<ipython-input-5-6ce13663300a>, line 2)",
          "traceback": [
            "\u001b[0;36m  File \u001b[0;32m\"<ipython-input-5-6ce13663300a>\"\u001b[0;36m, line \u001b[0;32m2\u001b[0m\n\u001b[0;31m    * Serving Flask app 'hello'\u001b[0m\n\u001b[0m    ^\u001b[0m\n\u001b[0;31mIndentationError\u001b[0m\u001b[0;31m:\u001b[0m unexpected indent\n"
          ]
        }
      ]
    },
    {
      "cell_type": "markdown",
      "source": [
        "#Étape 1: Configuration de l'Environnement\n",
        "#Installer les Bibliothèques Nécessaires\n",
        "\"\"\"\n",
        "Commencez par installer les bibliothèques nécessaires. Vous aurez besoin de Flask, OpenAI pour GPT-3, et IBM Watson SDK.\n",
        "\"\"\"\""
      ],
      "metadata": {
        "id": "56Wd4GmVVDWu"
      }
    },
    {
      "cell_type": "code",
      "source": [],
      "metadata": {
        "id": "bmV1qrUxVWUr"
      },
      "execution_count": null,
      "outputs": []
    },
    {
      "cell_type": "code",
      "source": [
        "pip install flask openai ibm-watson requests\n"
      ],
      "metadata": {
        "colab": {
          "base_uri": "https://localhost:8080/"
        },
        "id": "6jDX788JU4It",
        "outputId": "1817fa94-0b78-4a91-980d-ef0a9ee65cd3"
      },
      "execution_count": 1,
      "outputs": [
        {
          "output_type": "stream",
          "name": "stdout",
          "text": [
            "Requirement already satisfied: flask in /usr/local/lib/python3.10/dist-packages (2.2.5)\n",
            "Collecting openai\n",
            "  Downloading openai-1.40.2-py3-none-any.whl.metadata (22 kB)\n",
            "Collecting ibm-watson\n",
            "  Downloading ibm_watson-8.1.0.tar.gz (400 kB)\n",
            "\u001b[2K     \u001b[90m━━━━━━━━━━━━━━━━━━━━━━━━━━━━━━━━━━━━━━━━\u001b[0m \u001b[32m400.1/400.1 kB\u001b[0m \u001b[31m7.2 MB/s\u001b[0m eta \u001b[36m0:00:00\u001b[0m\n",
            "\u001b[?25h  Installing build dependencies ... \u001b[?25l\u001b[?25hdone\n",
            "  Getting requirements to build wheel ... \u001b[?25l\u001b[?25hdone\n",
            "  Preparing metadata (pyproject.toml) ... \u001b[?25l\u001b[?25hdone\n",
            "Requirement already satisfied: requests in /usr/local/lib/python3.10/dist-packages (2.32.3)\n",
            "Requirement already satisfied: Werkzeug>=2.2.2 in /usr/local/lib/python3.10/dist-packages (from flask) (3.0.3)\n",
            "Requirement already satisfied: Jinja2>=3.0 in /usr/local/lib/python3.10/dist-packages (from flask) (3.1.4)\n",
            "Requirement already satisfied: itsdangerous>=2.0 in /usr/local/lib/python3.10/dist-packages (from flask) (2.2.0)\n",
            "Requirement already satisfied: click>=8.0 in /usr/local/lib/python3.10/dist-packages (from flask) (8.1.7)\n",
            "Requirement already satisfied: anyio<5,>=3.5.0 in /usr/local/lib/python3.10/dist-packages (from openai) (3.7.1)\n",
            "Requirement already satisfied: distro<2,>=1.7.0 in /usr/lib/python3/dist-packages (from openai) (1.7.0)\n",
            "Collecting httpx<1,>=0.23.0 (from openai)\n",
            "  Downloading httpx-0.27.0-py3-none-any.whl.metadata (7.2 kB)\n",
            "Collecting jiter<1,>=0.4.0 (from openai)\n",
            "  Downloading jiter-0.5.0-cp310-cp310-manylinux_2_17_x86_64.manylinux2014_x86_64.whl.metadata (3.6 kB)\n",
            "Requirement already satisfied: pydantic<3,>=1.9.0 in /usr/local/lib/python3.10/dist-packages (from openai) (2.8.2)\n",
            "Requirement already satisfied: sniffio in /usr/local/lib/python3.10/dist-packages (from openai) (1.3.1)\n",
            "Requirement already satisfied: tqdm>4 in /usr/local/lib/python3.10/dist-packages (from openai) (4.66.5)\n",
            "Requirement already satisfied: typing-extensions<5,>=4.11 in /usr/local/lib/python3.10/dist-packages (from openai) (4.12.2)\n",
            "Requirement already satisfied: python-dateutil>=2.5.3 in /usr/local/lib/python3.10/dist-packages (from ibm-watson) (2.8.2)\n",
            "Requirement already satisfied: websocket-client>=1.1.0 in /usr/local/lib/python3.10/dist-packages (from ibm-watson) (1.8.0)\n",
            "Collecting ibm-cloud-sdk-core==3.*,>=3.3.6 (from ibm-watson)\n",
            "  Downloading ibm_cloud_sdk_core-3.20.6-py3-none-any.whl.metadata (5.5 kB)\n",
            "Collecting urllib3<3.0.0,>=2.1.0 (from ibm-cloud-sdk-core==3.*,>=3.3.6->ibm-watson)\n",
            "  Downloading urllib3-2.2.2-py3-none-any.whl.metadata (6.4 kB)\n",
            "Requirement already satisfied: PyJWT<3.0.0,>=2.8.0 in /usr/local/lib/python3.10/dist-packages (from ibm-cloud-sdk-core==3.*,>=3.3.6->ibm-watson) (2.9.0)\n",
            "Requirement already satisfied: charset-normalizer<4,>=2 in /usr/local/lib/python3.10/dist-packages (from requests) (3.3.2)\n",
            "Requirement already satisfied: idna<4,>=2.5 in /usr/local/lib/python3.10/dist-packages (from requests) (3.7)\n",
            "Requirement already satisfied: certifi>=2017.4.17 in /usr/local/lib/python3.10/dist-packages (from requests) (2024.7.4)\n",
            "Requirement already satisfied: exceptiongroup in /usr/local/lib/python3.10/dist-packages (from anyio<5,>=3.5.0->openai) (1.2.2)\n",
            "Collecting httpcore==1.* (from httpx<1,>=0.23.0->openai)\n",
            "  Downloading httpcore-1.0.5-py3-none-any.whl.metadata (20 kB)\n",
            "Collecting h11<0.15,>=0.13 (from httpcore==1.*->httpx<1,>=0.23.0->openai)\n",
            "  Downloading h11-0.14.0-py3-none-any.whl.metadata (8.2 kB)\n",
            "Requirement already satisfied: MarkupSafe>=2.0 in /usr/local/lib/python3.10/dist-packages (from Jinja2>=3.0->flask) (2.1.5)\n",
            "Requirement already satisfied: annotated-types>=0.4.0 in /usr/local/lib/python3.10/dist-packages (from pydantic<3,>=1.9.0->openai) (0.7.0)\n",
            "Requirement already satisfied: pydantic-core==2.20.1 in /usr/local/lib/python3.10/dist-packages (from pydantic<3,>=1.9.0->openai) (2.20.1)\n",
            "Requirement already satisfied: six>=1.5 in /usr/local/lib/python3.10/dist-packages (from python-dateutil>=2.5.3->ibm-watson) (1.16.0)\n",
            "Downloading openai-1.40.2-py3-none-any.whl (360 kB)\n",
            "\u001b[2K   \u001b[90m━━━━━━━━━━━━━━━━━━━━━━━━━━━━━━━━━━━━━━━━\u001b[0m \u001b[32m360.7/360.7 kB\u001b[0m \u001b[31m15.4 MB/s\u001b[0m eta \u001b[36m0:00:00\u001b[0m\n",
            "\u001b[?25hDownloading ibm_cloud_sdk_core-3.20.6-py3-none-any.whl (60 kB)\n",
            "\u001b[2K   \u001b[90m━━━━━━━━━━━━━━━━━━━━━━━━━━━━━━━━━━━━━━━━\u001b[0m \u001b[32m60.7/60.7 kB\u001b[0m \u001b[31m3.6 MB/s\u001b[0m eta \u001b[36m0:00:00\u001b[0m\n",
            "\u001b[?25hDownloading httpx-0.27.0-py3-none-any.whl (75 kB)\n",
            "\u001b[2K   \u001b[90m━━━━━━━━━━━━━━━━━━━━━━━━━━━━━━━━━━━━━━━━\u001b[0m \u001b[32m75.6/75.6 kB\u001b[0m \u001b[31m5.0 MB/s\u001b[0m eta \u001b[36m0:00:00\u001b[0m\n",
            "\u001b[?25hDownloading httpcore-1.0.5-py3-none-any.whl (77 kB)\n",
            "\u001b[2K   \u001b[90m━━━━━━━━━━━━━━━━━━━━━━━━━━━━━━━━━━━━━━━━\u001b[0m \u001b[32m77.9/77.9 kB\u001b[0m \u001b[31m5.0 MB/s\u001b[0m eta \u001b[36m0:00:00\u001b[0m\n",
            "\u001b[?25hDownloading jiter-0.5.0-cp310-cp310-manylinux_2_17_x86_64.manylinux2014_x86_64.whl (318 kB)\n",
            "\u001b[2K   \u001b[90m━━━━━━━━━━━━━━━━━━━━━━━━━━━━━━━━━━━━━━━━\u001b[0m \u001b[32m318.9/318.9 kB\u001b[0m \u001b[31m18.0 MB/s\u001b[0m eta \u001b[36m0:00:00\u001b[0m\n",
            "\u001b[?25hDownloading urllib3-2.2.2-py3-none-any.whl (121 kB)\n",
            "\u001b[2K   \u001b[90m━━━━━━━━━━━━━━━━━━━━━━━━━━━━━━━━━━━━━━━━\u001b[0m \u001b[32m121.4/121.4 kB\u001b[0m \u001b[31m7.6 MB/s\u001b[0m eta \u001b[36m0:00:00\u001b[0m\n",
            "\u001b[?25hDownloading h11-0.14.0-py3-none-any.whl (58 kB)\n",
            "\u001b[2K   \u001b[90m━━━━━━━━━━━━━━━━━━━━━━━━━━━━━━━━━━━━━━━━\u001b[0m \u001b[32m58.3/58.3 kB\u001b[0m \u001b[31m3.0 MB/s\u001b[0m eta \u001b[36m0:00:00\u001b[0m\n",
            "\u001b[?25hBuilding wheels for collected packages: ibm-watson\n",
            "  Building wheel for ibm-watson (pyproject.toml) ... \u001b[?25l\u001b[?25hdone\n",
            "  Created wheel for ibm-watson: filename=ibm_watson-8.1.0-py3-none-any.whl size=402520 sha256=e2271d0ad310b0282fb349a3ab483f2141abac2f23385b620f30a77131334568\n",
            "  Stored in directory: /root/.cache/pip/wheels/9c/ec/3d/75dc52e05ee4b84284f9f481ccbb85260985823c6c7083bf16\n",
            "Successfully built ibm-watson\n",
            "Installing collected packages: urllib3, jiter, h11, httpcore, ibm-cloud-sdk-core, httpx, openai, ibm-watson\n",
            "  Attempting uninstall: urllib3\n",
            "    Found existing installation: urllib3 2.0.7\n",
            "    Uninstalling urllib3-2.0.7:\n",
            "      Successfully uninstalled urllib3-2.0.7\n",
            "Successfully installed h11-0.14.0 httpcore-1.0.5 httpx-0.27.0 ibm-cloud-sdk-core-3.20.6 ibm-watson-8.1.0 jiter-0.5.0 openai-1.40.2 urllib3-2.2.2\n"
          ]
        }
      ]
    },
    {
      "cell_type": "markdown",
      "source": [
        "#Créer la Structure de Répertoires :\n",
        "Organisez votre projet avec une structure claire."
      ],
      "metadata": {
        "id": "qSb6Q6VLVOb_"
      }
    },
    {
      "cell_type": "code",
      "source": [
        "myproject/\n",
        "├── app/\n",
        "│   ├── __init__.py\n",
        "│   ├── routes.py\n",
        "│   ├── templates/\n",
        "│   └── static/\n",
        "├── venv/\n",
        "└── run.py\n"
      ],
      "metadata": {
        "id": "UU4uQYR3VYAY"
      },
      "execution_count": null,
      "outputs": []
    },
    {
      "cell_type": "markdown",
      "source": [
        "#Configurer le Fichier run.py :\n",
        "Ce fichier lancera votre application Flask."
      ],
      "metadata": {
        "id": "hhW5y3G8Vc2a"
      }
    },
    {
      "cell_type": "code",
      "source": [
        "from app import app\n",
        "\n",
        "if __name__ == \"__main__\":\n",
        "    app.run(debug=True)\n"
      ],
      "metadata": {
        "id": "j_iap5-vVlTj"
      },
      "execution_count": null,
      "outputs": []
    },
    {
      "cell_type": "markdown",
      "source": [
        "Configurer le Fichier __init__.py :\n",
        "Initialisez votre application Flask dans ce fichier."
      ],
      "metadata": {
        "id": "Yq5huEOuVsio"
      }
    },
    {
      "cell_type": "code",
      "source": [
        "from flask import Flask\n",
        "\n",
        "app = Flask(__name__)\n",
        "\n",
        "from app import routes\n"
      ],
      "metadata": {
        "id": "2Senoo3aVrWY"
      },
      "execution_count": null,
      "outputs": []
    },
    {
      "cell_type": "markdown",
      "source": [
        "Créer les Routes dans routes.py :\n",
        "Définissez les routes de votre application."
      ],
      "metadata": {
        "id": "2HkF999iV39X"
      }
    },
    {
      "cell_type": "code",
      "source": [
        "from app import app\n",
        "\n",
        "@app.route('/')\n",
        "def home():\n",
        "    return \"Hello, Flask!\"\n"
      ],
      "metadata": {
        "id": "OTXHshlIV_C4"
      },
      "execution_count": null,
      "outputs": []
    },
    {
      "cell_type": "markdown",
      "source": [
        "#3. Intégration des Services IBM Watson\n",
        "Créer un Compte IBM Cloud :\n",
        "\n",
        "Inscrivez-vous sur IBM Cloud : IBM Cloud\n",
        "Obtenir les Clés API pour IBM Watson :\n",
        "\n",
        "Accédez à IBM Watson Speech to Text et Text to Speech, et générez les clés API nécessaires.\n",
        "Récupération des Identifiants IAM :\n",
        "\n",
        "Suivez les étapes pour obtenir les clés API décrites précédemment.\n",
        "Configurer les Services dans Flask :\n",
        "\n",
        "Utilisez les clés API pour configurer les services Watson dans votre application Flask.\n",
        "Exemple pour configurer le service Text to Speech dans Flask :\n"
      ],
      "metadata": {
        "id": "CvS-krdiWHWJ"
      }
    },
    {
      "cell_type": "code",
      "source": [
        "from ibm_watson import TextToSpeechV1\n",
        "from ibm_cloud_sdk_core.authenticators import IAMAuthenticator\n",
        "\n",
        "authenticator = IAMAuthenticator('votre_clé_API')\n",
        "text_to_speech = TextToSpeechV1(authenticator=authenticator)\n",
        "text_to_speech.set_service_url('votre_url_du_service')\n"
      ],
      "metadata": {
        "id": "wdP4mRkXWLY4"
      },
      "execution_count": null,
      "outputs": []
    },
    {
      "cell_type": "markdown",
      "source": [
        "#Étape 2: Configuration des API\n",
        "Configurer OpenAI GPT-3\n",
        "Créez un compte sur OpenAI et obtenez votre clé API. Remplacez \"YOUR_OPENAI_API_KEY\" par votre clé API réelle.\n",
        "\n",
        "Configurer IBM Watson\n",
        "Créez un compte sur IBM Cloud, créez des services Speech-to-Text et Text-to-Speech, et obtenez vos clés API et URL. Remplacez \"YOUR_IBM_API_KEY\" et \"YOUR_IBM_URL\" par vos informations."
      ],
      "metadata": {
        "id": "KxtBQOWEVYCK"
      }
    },
    {
      "cell_type": "markdown",
      "source": [
        "#Développement de l'Interface Web\n",
        "Créer des Templates HTML :\n",
        "\n",
        "Utilisez le dossier templates pour stocker vos fichiers HTML."
      ],
      "metadata": {
        "id": "BEjL5fhoWsOY"
      }
    },
    {
      "cell_type": "code",
      "source": [
        "<!-- templates/index.html -->\n",
        "<!doctype html>\n",
        "<html lang=\"en\">\n",
        "<head>\n",
        "    <meta charset=\"utf-8\">\n",
        "    <title>Chatbot Interface</title>\n",
        "    <link rel=\"stylesheet\" href=\"{{ url_for('static', filename='style.css') }}\">\n",
        "</head>\n",
        "<body>\n",
        "    <h1>Welcome to the Chatbot Interface</h1>\n",
        "    <!-- Form and other elements go here -->\n",
        "</body>\n",
        "</html>\n"
      ],
      "metadata": {
        "id": "B5ePbM5tWxJp"
      },
      "execution_count": null,
      "outputs": []
    },
    {
      "cell_type": "markdown",
      "source": [
        "#Ajouter des Styles CSS :\n",
        "\n",
        "Utilisez le dossier static pour vos fichiers CSS."
      ],
      "metadata": {
        "id": "7aKRy54tW1PG"
      }
    },
    {
      "cell_type": "code",
      "source": [
        "/* static/style.css */\n",
        "body {\n",
        "    font-family: Arial, sans-serif;\n",
        "    background-color: #f0f0f0;\n",
        "    margin: 0;\n",
        "    padding: 0;\n",
        "    display: flex;\n",
        "    justify-content: center;\n",
        "    align-items: center;\n",
        "    height: 100vh;\n",
        "}\n",
        "\n",
        "h1 {\n",
        "    color: #333;\n",
        "}\n"
      ],
      "metadata": {
        "id": "npX7lncKW4TY"
      },
      "execution_count": null,
      "outputs": []
    },
    {
      "cell_type": "markdown",
      "source": [
        "#Ajouter des Scripts JavaScript :\n",
        "\n",
        "Pour rendre l'interface interactive."
      ],
      "metadata": {
        "id": "uir1MZCOW7d4"
      }
    },
    {
      "cell_type": "code",
      "source": [
        "<!-- templates/index.html -->\n",
        "<script>\n",
        "    // JavaScript code for interactivity\n",
        "</script>\n"
      ],
      "metadata": {
        "id": "JvD4MCfFW89u"
      },
      "execution_count": null,
      "outputs": []
    },
    {
      "cell_type": "markdown",
      "source": [
        "#5. Phases de Test\n",
        "Tester l'Application Localement :\n",
        "\n",
        "Utilisez le mode debug de Flask pour tester votre application localement."
      ],
      "metadata": {
        "id": "YDUmgfEQXFq5"
      }
    },
    {
      "cell_type": "code",
      "source": [
        "python run.py\n"
      ],
      "metadata": {
        "id": "JSu9qjllXIVv"
      },
      "execution_count": null,
      "outputs": []
    },
    {
      "cell_type": "markdown",
      "source": [
        "#Déboguer et Résoudre les Problèmes :\n",
        "\n",
        "Utilisez les logs et les messages d'erreur pour déboguer votre application.\n",
        "Tester les Intégrations IBM Watson :\n",
        "\n",
        "Assurez-vous que les services Watson fonctionnent correctement en testant les fonctionnalités de conversion de texte et de parole."
      ],
      "metadata": {
        "id": "63qNsa9HXOig"
      }
    },
    {
      "cell_type": "markdown",
      "source": [
        "#Étape 3: Création du Serveur Flask\n",
        "#Créez un fichier app.py pour votre application Flask.\n"
      ],
      "metadata": {
        "id": "hPPSwRRsVuIT"
      }
    },
    {
      "cell_type": "code",
      "source": [
        "from flask import Flask, render_template, request, jsonify\n",
        "import openai\n",
        "from ibm_watson import SpeechToTextV1, TextToSpeechV1\n",
        "from ibm_cloud_sdk_core.authenticators import IAMAuthenticator\n",
        "\n",
        "app = Flask(__name__)\n",
        "\n",
        "# Configuration de l'API OpenAI\n",
        "openai.api_key = 'YOUR OPEN AI API KEY'\n",
        "\n",
        "# Configuration de l'API IBM Watson Speech-to-Text\n",
        "stt_authenticator = IAMAuthenticator('YOUR_IBM_API_KEY')\n",
        "speech_to_text = SpeechToTextV1(authenticator=stt_authenticator)\n",
        "speech_to_text.set_service_url('YOUR_IBM_URL')\n",
        "\n",
        "# Configuration de l'API IBM Watson Text-to-Speech\n",
        "tts_authenticator = IAMAuthenticator('YOUR_IBM_API_KEY')\n",
        "text_to_speech = TextToSpeechV1(authenticator=tts_authenticator)\n",
        "text_to_speech.set_service_url('YOUR_IBM_URL')\n",
        "\n",
        "@app.route('/')\n",
        "def home():\n",
        "    return render_template('index.html')\n",
        "\n",
        "@app.route('/chat', methods=['POST'])\n",
        "def chat():\n",
        "    user_message = request.json.get('message')\n",
        "\n",
        "    # Interaction avec GPT-3\n",
        "    response = openai.Completion.create(\n",
        "        engine=\"davinci\",\n",
        "        prompt=user_message,\n",
        "        max_tokens=150\n",
        "    )\n",
        "\n",
        "    gpt3_response = response.choices[0].text.strip()\n",
        "\n",
        "    return jsonify({'response': gpt3_response})\n",
        "\n",
        "@app.route('/speech-to-text', methods=['POST'])\n",
        "def speech_to_text():\n",
        "    audio = request.files['audio']\n",
        "    stt_result = speech_to_text.recognize(audio=audio, content_type='audio/wav').get_result()\n",
        "    text = stt_result['results'][0]['alternatives'][0]['transcript']\n",
        "    return jsonify({'text': text})\n",
        "\n",
        "@app.route('/text-to-speech', methods=['POST'])\n",
        "def text_to_speech():\n",
        "    text = request.json.get('text')\n",
        "    tts_response = text_to_speech.synthesize(text, accept='audio/wav', voice='en-US_AllisonV3Voice').get_result()\n",
        "    audio = tts_response.content\n",
        "    return audio\n",
        "\n",
        "if __name__ == '__main__':\n",
        "    app.run(debug=True)\n"
      ],
      "metadata": {
        "id": "cexAjS_0V37d"
      },
      "execution_count": null,
      "outputs": []
    },
    {
      "cell_type": "markdown",
      "source": [
        "Exemple d'utilisation de text To Speech"
      ],
      "metadata": {
        "id": "z_v5241wWYm_"
      }
    },
    {
      "cell_type": "markdown",
      "source": [
        "Text to Speech\n",
        "https://www.youtube.com/watch?v=5w4WM1ZTOP8\n"
      ],
      "metadata": {
        "id": "s2yXLXYuLnid"
      }
    },
    {
      "cell_type": "markdown",
      "source": [
        "#AUTRES UTILISATIONS DE GPT :"
      ],
      "metadata": {
        "id": "cEHW6hW0We_Z"
      }
    },
    {
      "cell_type": "code",
      "source": [
        "pip install openai"
      ],
      "metadata": {
        "id": "hMMYKecaJoaJ"
      },
      "execution_count": null,
      "outputs": []
    },
    {
      "cell_type": "code",
      "source": [
        "npm install openai@^4.0.0"
      ],
      "metadata": {
        "id": "kbOJUGczJvWH"
      },
      "execution_count": null,
      "outputs": []
    },
    {
      "cell_type": "code",
      "source": [
        "Authorization: Bearer OPENAI_API_KEY"
      ],
      "metadata": {
        "id": "PkrXoFEwJygw"
      },
      "execution_count": null,
      "outputs": []
    },
    {
      "cell_type": "code",
      "source": [
        "curl https://api.openai.com/v1/models \\\n",
        "  -H \"Authorization: Bearer $OPENAI_API_KEY\" \\\n",
        "  -H \"OpenAI-Organization: org-3do5PhSPZuOLO1BAHF622uK0\" \\\n",
        "  -H \"OpenAI-Project: $PROJECT_ID\""
      ],
      "metadata": {
        "id": "51BSlN8CJ1tH"
      },
      "execution_count": null,
      "outputs": []
    },
    {
      "cell_type": "code",
      "source": [
        "from openai import OpenAI\n",
        "\n",
        "client = OpenAI(\n",
        "  organization='org-3do5PhSPZuOLO1BAHF622uK0',\n",
        "  project='$PROJECT_ID',\n",
        ")"
      ],
      "metadata": {
        "id": "crtDVl9TJ5fA"
      },
      "execution_count": null,
      "outputs": []
    },
    {
      "cell_type": "code",
      "source": [
        "import OpenAI from \"openai\";\n",
        "\n",
        "const openai = new OpenAI({\n",
        "    organization: \"org-3do5PhSPZuOLO1BAHF622uK0\",\n",
        "    project: \"$PROJECT_ID\",\n",
        "});"
      ],
      "metadata": {
        "id": "l8XiAnKDKArH"
      },
      "execution_count": null,
      "outputs": []
    },
    {
      "cell_type": "markdown",
      "source": [
        "Making requests"
      ],
      "metadata": {
        "id": "qbrrGWStKV_Q"
      }
    },
    {
      "cell_type": "code",
      "source": [
        "curl https://api.openai.com/v1/chat/completions \\\n",
        "  -H \"Content-Type: application/json\" \\\n",
        "  -H \"Authorization: Bearer $OPENAI_API_KEY\" \\\n",
        "  -d '{\n",
        "     \"model\": \"gpt-4o-mini\",\n",
        "     \"messages\": [{\"role\": \"user\", \"content\": \"Say this is a test!\"}],\n",
        "     \"temperature\": 0.7\n",
        "   }'"
      ],
      "metadata": {
        "id": "UNFP6uMGKS45"
      },
      "execution_count": null,
      "outputs": []
    },
    {
      "cell_type": "code",
      "source": [
        "{\n",
        "    \"id\": \"chatcmpl-abc123\",\n",
        "    \"object\": \"chat.completion\",\n",
        "    \"created\": 1677858242,\n",
        "    \"model\": \"gpt-4o-mini\",\n",
        "    \"usage\": {\n",
        "        \"prompt_tokens\": 13,\n",
        "        \"completion_tokens\": 7,\n",
        "        \"total_tokens\": 20\n",
        "    },\n",
        "    \"choices\": [\n",
        "        {\n",
        "            \"message\": {\n",
        "                \"role\": \"assistant\",\n",
        "                \"content\": \"\\n\\nThis is a test!\"\n",
        "            },\n",
        "            \"logprobs\": null,\n",
        "            \"finish_reason\": \"stop\",\n",
        "            \"index\": 0\n",
        "        }\n",
        "    ]\n",
        "}"
      ],
      "metadata": {
        "id": "IQeRCfqOKcBG"
      },
      "execution_count": null,
      "outputs": []
    },
    {
      "cell_type": "markdown",
      "source": [
        "STREAMING\n"
      ],
      "metadata": {
        "id": "cYeVCUNIKfvG"
      }
    },
    {
      "cell_type": "code",
      "source": [
        "from openai import OpenAI\n",
        "\n",
        "client = OpenAI()\n",
        "\n",
        "stream = client.chat.completions.create(\n",
        "    model=\"gpt-4o-mini\",\n",
        "    messages=[{\"role\": \"user\", \"content\": \"Say this is a test\"}],\n",
        "    stream=True,\n",
        ")\n",
        "for chunk in stream:\n",
        "    if chunk.choices[0].delta.content is not None:\n",
        "        print(chunk.choices[0].delta.content, end=\"\")"
      ],
      "metadata": {
        "id": "bPqa_PpaKitX"
      },
      "execution_count": null,
      "outputs": []
    },
    {
      "cell_type": "code",
      "source": [
        "import OpenAI from \"openai\";\n",
        "\n",
        "const openai = new OpenAI();\n",
        "\n",
        "async function main() {\n",
        "    const stream = await openai.chat.completions.create({\n",
        "        model: \"gpt-4o-mini\",\n",
        "        messages: [{ role: \"user\", content: \"Say this is a test\" }],\n",
        "        stream: true,\n",
        "    });\n",
        "    for await (const chunk of stream) {\n",
        "        process.stdout.write(chunk.choices[0]?.delta?.content || \"\");\n",
        "    }\n",
        "}\n",
        "\n",
        "main();"
      ],
      "metadata": {
        "id": "oBeTP3SXKnqm"
      },
      "execution_count": null,
      "outputs": []
    },
    {
      "cell_type": "markdown",
      "source": [
        "Create speech"
      ],
      "metadata": {
        "id": "NJ9kzKTEKtkW"
      }
    },
    {
      "cell_type": "code",
      "source": [
        "curl https://api.openai.com/v1/audio/speech \\\n",
        "  -H \"Authorization: Bearer $OPENAI_API_KEY\" \\\n",
        "  -H \"Content-Type: application/json\" \\\n",
        "  -d '{\n",
        "    \"model\": \"tts-1\",\n",
        "    \"input\": \"The quick brown fox jumped over the lazy dog.\",\n",
        "    \"voice\": \"alloy\"\n",
        "  }' \\\n",
        "  --output speech.mp3\n"
      ],
      "metadata": {
        "id": "WW4Z8zzeKwWQ"
      },
      "execution_count": null,
      "outputs": []
    },
    {
      "cell_type": "markdown",
      "source": [
        "Create transcription\n"
      ],
      "metadata": {
        "id": "yVAC7lwJK3s8"
      }
    },
    {
      "cell_type": "code",
      "source": [
        "curl https://api.openai.com/v1/audio/transcriptions \\\n",
        "  -H \"Authorization: Bearer $OPENAI_API_KEY\" \\\n",
        "  -H \"Content-Type: multipart/form-data\" \\\n",
        "  -F file=\"@/path/to/file/audio.mp3\" \\\n",
        "  -F model=\"whisper-1\"\n"
      ],
      "metadata": {
        "id": "bI9MkUcwK9h8"
      },
      "execution_count": null,
      "outputs": []
    },
    {
      "cell_type": "code",
      "source": [
        "{\n",
        "  \"text\": \"Imagine the wildest idea that you've ever had, and you're curious about how it might scale to something that's a 100, a 1,000 times bigger. This is a place where you can get to do that.\"\n",
        "}\n"
      ],
      "metadata": {
        "id": "CwHaGwN8LBOl"
      },
      "execution_count": null,
      "outputs": []
    },
    {
      "cell_type": "markdown",
      "source": [],
      "metadata": {
        "id": "OBlnaEOKLHQ9"
      }
    },
    {
      "cell_type": "markdown",
      "source": [
        "Create translation\n"
      ],
      "metadata": {
        "id": "hVZKfswWLKne"
      }
    },
    {
      "cell_type": "code",
      "source": [
        "curl https://api.openai.com/v1/audio/translations \\\n",
        "  -H \"Authorization: Bearer $OPENAI_API_KEY\" \\\n",
        "  -H \"Content-Type: multipart/form-data\" \\\n",
        "  -F file=\"@/path/to/file/german.m4a\" \\\n",
        "  -F model=\"whisper-1\"\n"
      ],
      "metadata": {
        "id": "0-66G_f6LNnt"
      },
      "execution_count": null,
      "outputs": []
    },
    {
      "cell_type": "markdown",
      "source": [
        "{\n",
        "  \"text\": \"Hello, my name is Wolfgang and I come from Germany. Where are you heading today?\"\n",
        "}\n"
      ],
      "metadata": {
        "id": "sKhxAt-YLR1u"
      }
    }
  ]
}