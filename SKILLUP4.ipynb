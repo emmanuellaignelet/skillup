{
  "cells": [
    {
      "cell_type": "markdown",
      "metadata": {
        "id": "view-in-github",
        "colab_type": "text"
      },
      "source": [
        "<a href=\"https://colab.research.google.com/github/emmanuellaignelet/skillup2/blob/main/SKILLUP4.ipynb\" target=\"_parent\"><img src=\"https://colab.research.google.com/assets/colab-badge.svg\" alt=\"Open In Colab\"/></a>"
      ]
    },
    {
      "cell_type": "markdown",
      "metadata": {
        "id": "z1cc4PYCmddD"
      },
      "source": [
        "#Étapes pour installer Flask en utilisant pip"
      ]
    },
    {
      "cell_type": "markdown",
      "metadata": {
        "id": "B58ibCGSmn5d"
      },
      "source": [
        "\"\"\"\n",
        "Vérifier l'installation de Python et pip :\n",
        "Mettre à jour pip :\n",
        "\n",
        "\"\"\""
      ]
    },
    {
      "cell_type": "code",
      "execution_count": null,
      "metadata": {
        "id": "kl-Jxi-ynJdQ"
      },
      "outputs": [],
      "source": [
        "python --version\n",
        "pip --version"
      ]
    },
    {
      "cell_type": "markdown",
      "metadata": {
        "id": "cnVhYxP5nDy4"
      },
      "source": [
        "#Créer un environnement virtuel (optionnel mais recommandé) :"
      ]
    },
    {
      "cell_type": "markdown",
      "metadata": {
        "id": "-qyWN-tGnbGY"
      },
      "source": [
        "#Installer Flask :"
      ]
    },
    {
      "cell_type": "code",
      "execution_count": null,
      "metadata": {
        "id": "KVhbZwM_mL4O"
      },
      "outputs": [],
      "source": [
        "\n",
        "\n",
        "python -m pip install --upgrade pip\n",
        "python -m venv myenv\n",
        "source myenv/bin/activate  # (ou myenv\\Scripts\\activate pour Windows)\n",
        "pip install flask\n"
      ]
    },
    {
      "cell_type": "markdown",
      "metadata": {
        "id": "TNz48BrRnson"
      },
      "source": [
        "#Vérifier l'installation de Flask :"
      ]
    },
    {
      "cell_type": "code",
      "execution_count": null,
      "metadata": {
        "id": "ob27_v6Qnz1A"
      },
      "outputs": [],
      "source": [
        "python\n",
        ">>> import flask\n",
        ">>> print(flask.__version__)\n"
      ]
    },
    {
      "cell_type": "markdown",
      "metadata": {
        "id": "oB5uGlT6oS-Z"
      },
      "source": [
        "#Exemple de Code pour Démarrer avec Flask"
      ]
    },
    {
      "cell_type": "code",
      "execution_count": null,
      "metadata": {
        "colab": {
          "background_save": true,
          "base_uri": "https://localhost:8080/"
        },
        "id": "Lq1Vrqxzoo85",
        "outputId": "92ab67b7-39b1-43bb-f5e3-2fbd8ac0bee6"
      },
      "outputs": [
        {
          "name": "stdout",
          "output_type": "stream",
          "text": [
            " * Serving Flask app '__main__'\n",
            " * Debug mode: on\n"
          ]
        },
        {
          "name": "stderr",
          "output_type": "stream",
          "text": [
            "INFO:werkzeug:\u001b[31m\u001b[1mWARNING: This is a development server. Do not use it in a production deployment. Use a production WSGI server instead.\u001b[0m\n",
            " * Running on http://127.0.0.1:5000\n",
            "INFO:werkzeug:\u001b[33mPress CTRL+C to quit\u001b[0m\n",
            "INFO:werkzeug: * Restarting with stat\n"
          ]
        }
      ],
      "source": [
        "from flask import Flask\n",
        "\n",
        "app = Flask(__name__)\n",
        "\n",
        "@app.route('/')\n",
        "def hello_world():\n",
        "    return 'Hello, World!'\n",
        "\n",
        "if __name__ == '__main__':\n",
        "    app.run(debug=True)\n"
      ]
    },
    {
      "cell_type": "markdown",
      "metadata": {
        "id": "I06ZRE-lpEUa"
      },
      "source": [
        "#Pour exécuter cette application, enregistrez le script dans un fichier app.py et lancez-le avec (sous bash) :"
      ]
    },
    {
      "cell_type": "code",
      "execution_count": null,
      "metadata": {
        "id": "I50YyCyVpTy1"
      },
      "outputs": [],
      "source": [
        "python app.py\n"
      ]
    },
    {
      "cell_type": "markdown",
      "metadata": {
        "id": "s8gO1CjipqeA"
      },
      "source": [
        "Installer IBM Watson SDK pour Python"
      ]
    },
    {
      "cell_type": "code",
      "execution_count": null,
      "metadata": {
        "id": "3W4w--Wjpzve"
      },
      "outputs": [],
      "source": [
        "pip install ibm-watson"
      ]
    },
    {
      "cell_type": "markdown",
      "metadata": {
        "id": "yL3ca1GDp5N9"
      },
      "source": [
        "Installer OpenAI SDK"
      ]
    },
    {
      "cell_type": "code",
      "execution_count": null,
      "metadata": {
        "id": "D7f4i1EVqFOe"
      },
      "outputs": [],
      "source": [
        "pip install openai\n"
      ]
    },
    {
      "cell_type": "markdown",
      "metadata": {
        "id": "3cvnsoIrqaF_"
      },
      "source": [
        "#Création du back end avec FLASK"
      ]
    },
    {
      "cell_type": "markdown",
      "source": [
        "#Structure projet FLASK\n"
      ],
      "metadata": {
        "id": "eX2xEpas-SRT"
      }
    },
    {
      "cell_type": "code",
      "source": [
        "chatbot_project/\n",
        "├── app.py\n",
        "├── templates/\n",
        "│   └── index.html\n",
        "├── static/\n",
        "│   ├── css/\n",
        "│   │   └── style.css\n",
        "│   └── js/\n",
        "│       └── script.js\n",
        "└── requirements.txt\n"
      ],
      "metadata": {
        "id": "ls5pTwpd-nmY"
      },
      "execution_count": null,
      "outputs": []
    },
    {
      "cell_type": "code",
      "execution_count": null,
      "metadata": {
        "id": "1WfbrvnrqmCo"
      },
      "outputs": [],
      "source": [
        "from flask import Flask, render_template, request, jsonify\n",
        "from ibm_watson import SpeechToTextV1, TextToSpeechV1\n",
        "from ibm_cloud_sdk_core.authenticators import IAMAuthenticator\n",
        "import openai\n",
        "\n",
        "app = Flask(__name__)\n",
        "\n",
        "# IBM Watson API credentials\n",
        "speech_to_text_authenticator = IAMAuthenticator('your_ibm_speech_to_text_api_key')\n",
        "speech_to_text = SpeechToTextV1(authenticator=speech_to_text_authenticator)\n",
        "speech_to_text.set_service_url('your_ibm_speech_to_text_url')\n",
        "\n",
        "text_to_speech_authenticator = IAMAuthenticator('your_ibm_text_to_speech_api_key')\n",
        "text_to_speech = TextToSpeechV1(authenticator=text_to_speech_authenticator)\n",
        "text_to_speech.set_service_url('your_ibm_text_to_speech_url')\n",
        "\n",
        "# OpenAI GPT-3 API key\n",
        "openai.api_key = 'your_openai_api_key'\n",
        "\n",
        "@app.route('/')\n",
        "def index():\n",
        "    return render_template('index.html')\n",
        "\n",
        "@app.route('/api/speech-to-text', methods=['POST'])\n",
        "def speech_to_text_api():\n",
        "    audio = request.files['audio']\n",
        "    response = speech_to_text.recognize(audio=audio, content_type='audio/wav')\n",
        "    text = response.result['results'][0]['alternatives'][0]['transcript']\n",
        "    return jsonify({'text': text})\n",
        "\n",
        "@app.route('/api/generate-response', methods=['POST'])\n",
        "def generate_response():\n",
        "    user_input = request.json['text']\n",
        "    response = openai.Completion.create(\n",
        "        engine=\"davinci\",\n",
        "        prompt=user_input,\n",
        "        max_tokens=150\n",
        "    )\n",
        "    chatbot_response = response.choices[0].text.strip()\n",
        "    return jsonify({'response': chatbot_response})\n",
        "\n",
        "@app.route('/api/text-to-speech', methods=['POST'])\n",
        "def text_to_speech_api():\n",
        "    text = request.json['text']\n",
        "    response = text_to_speech.synthesize(\n",
        "        text,\n",
        "        voice='en-US_AllisonV3Voice',\n",
        "        accept='audio/wav'\n",
        "    ).get_result()\n",
        "    audio = response.content\n",
        "    return jsonify({'audio': audio})\n",
        "\n",
        "if __name__ == '__main__':\n",
        "    app.run(debug=True)\n"
      ]
    },
    {
      "cell_type": "markdown",
      "source": [
        "#Text To Speech"
      ],
      "metadata": {
        "id": "M8O0oni29GMX"
      }
    },
    {
      "cell_type": "markdown",
      "source": [
        "#Développement Front End"
      ],
      "metadata": {
        "id": "BcXj0wo6-x9L"
      }
    },
    {
      "cell_type": "markdown",
      "source": [
        "\"\"\"\n",
        "Création de l'interface utilisateur avec HTML, CSS, et JavaScript\n",
        "Fichier templates/index.html :\n",
        "\"\"\""
      ],
      "metadata": {
        "id": "UMgWA6B-_Gp7"
      }
    },
    {
      "cell_type": "code",
      "source": [
        "<!DOCTYPE html>\n",
        "<html lang=\"en\">\n",
        "<head>\n",
        "    <meta charset=\"UTF-8\">\n",
        "    <meta name=\"viewport\" content=\"width=device-width, initial-scale=1.0\">\n",
        "    <title>Chatbot</title>\n",
        "    <link rel=\"stylesheet\" href=\"{{ url_for('static', filename='css/style.css') }}\">\n",
        "</head>\n",
        "<body>\n",
        "    <div id=\"chat-container\">\n",
        "        <div id=\"chat-box\"></div>\n",
        "        <input type=\"text\" id=\"user-input\" placeholder=\"Type a message...\">\n",
        "        <button onclick=\"sendMessage()\">Send</button>\n",
        "        <button onclick=\"recordAudio()\">Record</button>\n",
        "    </div>\n",
        "    <script src=\"{{ url_for('static', filename='js/script.js') }}\"></script>\n",
        "</body>\n",
        "</html>\n"
      ],
      "metadata": {
        "id": "c93ez--w-6ws"
      },
      "execution_count": null,
      "outputs": []
    },
    {
      "cell_type": "markdown",
      "source": [
        "\"\"\"\n",
        "Fichier static/css/style.css :\n",
        "\"\"\""
      ],
      "metadata": {
        "id": "EWUk-kT0_UOX"
      }
    },
    {
      "cell_type": "code",
      "source": [
        "body {\n",
        "    font-family: Arial, sans-serif;\n",
        "    display: flex;\n",
        "    justify-content: center;\n",
        "    align-items: center;\n",
        "    height: 100vh;\n",
        "    background-color: #f0f0f0;\n",
        "}\n",
        "#chat-container {\n",
        "    width: 300px;\n",
        "    background: white;\n",
        "    padding: 10px;\n",
        "    box-shadow: 0 0 10px rgba(0, 0, 0, 0.1);\n",
        "}\n",
        "#chat-box {\n",
        "    height: 300px;\n",
        "    overflow-y: scroll;\n",
        "    border: 1px solid #ddd;\n",
        "    margin-bottom: 10px;\n",
        "}\n",
        "#user-input {\n",
        "    width: calc(100% - 70px);\n",
        "    padding: 5px;\n",
        "}\n",
        "button {\n",
        "    padding: 5px;\n",
        "    margin-left: 5px;\n",
        "}\n"
      ],
      "metadata": {
        "id": "9nr8vpNj_iOU"
      },
      "execution_count": null,
      "outputs": []
    },
    {
      "cell_type": "markdown",
      "source": [
        "\"\"\"\n",
        "Fichier static/js/script.js :\n",
        "\"\"\""
      ],
      "metadata": {
        "id": "_9PVh00I_4Rc"
      }
    },
    {
      "cell_type": "code",
      "source": [
        "async function sendMessage() {\n",
        "    const userInput = document.getElementById('user-input').value;\n",
        "    displayMessage(userInput, 'user');\n",
        "    const response = await fetch('/api/generate-response', {\n",
        "        method: 'POST',\n",
        "        headers: { 'Content-Type': 'application/json' },\n",
        "        body: JSON.stringify({ text: userInput })\n",
        "    });\n",
        "    const data = await response.json();\n",
        "    displayMessage(data.response, 'chatbot');\n",
        "    textToSpeech(data.response);\n",
        "}\n",
        "\n",
        "function displayMessage(message, sender) {\n",
        "    const chatBox = document.getElementById('chat-box');\n",
        "    const messageDiv = document.createElement('div');\n",
        "    messageDiv.classList.add(sender);\n",
        "    messageDiv.textContent = message;\n",
        "    chatBox.appendChild(messageDiv);\n",
        "}\n",
        "\n",
        "async function recordAudio() {\n",
        "    const stream = await navigator.mediaDevices.getUserMedia({ audio: true });\n",
        "    const mediaRecorder = new MediaRecorder(stream);\n",
        "    mediaRecorder.start();\n",
        "    mediaRecorder.ondataavailable = async function (e) {\n",
        "        const formData = new FormData();\n",
        "        formData.append('audio', e.data, 'recording.wav');\n",
        "        const response = await fetch('/api/speech-to-text', {\n",
        "            method: 'POST',\n",
        "            body: formData\n",
        "        });\n",
        "        const data = await response.json();\n",
        "        document.getElementById('user-input').value = data.text;\n",
        "    };\n",
        "    setTimeout(() => mediaRecorder.stop(), 5000); // Record for 5 seconds\n",
        "}\n",
        "\n",
        "async function textToSpeech(text) {\n",
        "    const response = await fetch('/api/text-to-speech', {\n",
        "        method: 'POST',\n",
        "        headers: { 'Content-Type': 'application/json' },\n",
        "        body: JSON.stringify({ text })\n",
        "    });\n",
        "    const data = await response.json();\n",
        "    const audio = new Audio(URL.createObjectURL(new Blob([data.audio])));\n",
        "    audio.play();\n",
        "}\n"
      ],
      "metadata": {
        "id": "WGbHFxzq_6_u"
      },
      "execution_count": null,
      "outputs": []
    },
    {
      "cell_type": "markdown",
      "source": [
        "4. Exécution du Projet\n",
        "Lancer l'application :\n",
        "\n",
        "Exécutez le fichier app.py avec la commande python app.py.\n",
        "Accédez à http://127.0.0.1:5000/ dans votre navigateur.\n",
        "Interaction avec le Chatbot :\n",
        "\n",
        "Utilisez l'interface pour envoyer des messages ou enregistrer des messages vocaux.\n",
        "Le chatbot comprendra les messages, générera des réponses via GPT-3, et les synthétisera en utilisant IBM Watson Text-to-Speech."
      ],
      "metadata": {
        "id": "ykcH88SwAU4e"
      }
    },
    {
      "cell_type": "markdown",
      "source": [
        "IBM Speech To Text\n",
        "Replace {apikey} and {url} with your API key and URL.\n",
        "Modify {path_to_file} to specify the location of the audio-file.flac file."
      ],
      "metadata": {
        "id": "-zeKLfa_Ar2E"
      }
    },
    {
      "cell_type": "code",
      "source": [
        "curl -X POST -u \"apikey:{apikey}\" \\\n",
        "--header \"Content-Type: audio/flac\" \\\n",
        "--data-binary @{path_to_file}audio-file.flac \\\n",
        "\"{url}/v1/recognize\"\n"
      ],
      "metadata": {
        "id": "NH8IM6beA22R"
      },
      "execution_count": null,
      "outputs": []
    },
    {
      "cell_type": "markdown",
      "source": [
        "IBM Text To Speech :"
      ],
      "metadata": {
        "id": "Z_9qzK9zAYnh"
      }
    },
    {
      "cell_type": "code",
      "source": [
        "curl -X POST -u \"apikey:{apikey}\" \\\n",
        "--header \"Content-Type: application/json\" \\\n",
        "--header \"Accept: audio/wav\" \\\n",
        "--data \"{\\\"text\\\":\\\"hello world\\\"}\" \\\n",
        "--output hello_world.wav \\\n",
        "\"{url}/v1/synthesize?voice=en-US_MichaelV3Voice\"\n",
        "\n"
      ],
      "metadata": {
        "id": "Fag0LI_e88tG"
      },
      "execution_count": null,
      "outputs": []
    },
    {
      "cell_type": "markdown",
      "source": [
        "\"\"\"\n",
        "Utiliser une voix différente\n",
        "\"\"\""
      ],
      "metadata": {
        "id": "PUql_TsX9n6S"
      }
    },
    {
      "cell_type": "code",
      "source": [
        "curl -X POST -u \"apikey:{apikey}\" \\\n",
        "--header \"Content-Type: application/json\" \\\n",
        "--data \"{\\\"text\\\":\\\"hello world\\\"}\" \\\n",
        "--output hello_world.ogg \\\n",
        "\"{url}/v1/synthesize?voice=en-US_AllisonV3Voice\"\n"
      ],
      "metadata": {
        "id": "Ou38_YiN94ck"
      },
      "execution_count": null,
      "outputs": []
    }
  ],
  "metadata": {
    "colab": {
      "provenance": [],
      "authorship_tag": "ABX9TyOnd6y8V+jjAYuYA+H0FM16",
      "include_colab_link": true
    },
    "kernelspec": {
      "display_name": "Python 3",
      "name": "python3"
    },
    "language_info": {
      "name": "python"
    }
  },
  "nbformat": 4,
  "nbformat_minor": 0
}